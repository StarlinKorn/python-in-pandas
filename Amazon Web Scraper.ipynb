{
 "cells": [
  {
   "cell_type": "markdown",
   "id": "6b39ed1b-76d6-4748-9cbe-bc6ec17830fe",
   "metadata": {},
   "source": [
    "# Amazon Web Scraping"
   ]
  },
  {
   "cell_type": "code",
   "execution_count": 1,
   "id": "b05983e8-5a6f-469b-a15c-f8cf7f54ab84",
   "metadata": {},
   "outputs": [],
   "source": [
    "# import Libaries\n",
    "from bs4 import BeautifulSoup\n",
    "import requests\n",
    "import smtplib\n",
    "import time \n",
    "import datetime"
   ]
  },
  {
   "cell_type": "code",
   "execution_count": 5,
   "id": "71f86c9c-3663-4548-a80a-37800f3fd834",
   "metadata": {},
   "outputs": [
    {
     "name": "stdout",
     "output_type": "stream",
     "text": [
      "\n",
      "                    Funny Got Data MIS Data Systems Business Analyst T-Shirt\n",
      "                   \n",
      "\n",
      "\n",
      "\n",
      "\n",
      "                    $16.99\n",
      "                   \n",
      "\n",
      "\n",
      "\n",
      "\n",
      "\n",
      "                      $\n",
      "                     \n",
      "\n",
      "                      16\n",
      "                      \n",
      "                       .\n",
      "                      \n",
      "\n",
      "\n",
      "                      99\n",
      "                     \n",
      "\n",
      "\n",
      "\n",
      "\n",
      "\n",
      "\n",
      "\n",
      "\n",
      "\n",
      "\n",
      "\n",
      "\n"
     ]
    }
   ],
   "source": [
    "# Connect to Website\n",
    "\n",
    "URL = 'https://www.amazon.com/Funny-Data-Systems-Business-Analyst/dp/B07FNW9FGJ/ref=sr_1_5?crid=1QTY20KVXAD78&dib=eyJ2IjoiMSJ9.THdJbtqqZUR64lKylmQgQAyv-uv4E9jzm4FWQDXT91m_e4l8xNdDBLYCSCMsh5BggoQTdZ9EezTr8FJQJM-H6zYd_SzfCCpIw9GBKo1LMWiaAO-xb21wcMOLduRrdJN-zky3hlWpCaqENlrICnZXNA8bBCbk44P-J8dXa5DE5E1PfEc89-ULbABW4AJbRXO9775PpNF_WtmOJe3XWq1yyCBx4ayTuVKOpi_lUIJUHNC24NyLf1HL60EeabPu3-Z1dPw-IiTmtpGIUw1TkdQV8v7DK6DYM9LUhLrE3a4nMQM.U2RSit7LOC6s4l00BnfOVh5YkHz1-TF80vbrdP_Gl0I&dib_tag=se&keywords=Data+analyst+shirt&qid=1727427658&sprefix=data+analyst+shirt%2Caps%2C326&sr=8-5'\n",
    "\n",
    "# Find Your User-Agent: https://httpbin.org/get\n",
    "\n",
    "headers = {\"User-Agent\": \"Mozilla/5.0 (Windows NT 10.0; Win64; x64) AppleWebKit/537.36 (KHTML, like Gecko) Chrome/129.0.0.0 Safari/537.36 Edg/129.0.0.0\",\n",
    "        \"Accept\": \"text/html,application/xhtml+xml,application/xml;q=0.9,image/avif,image/webp,image/apng,*/*;q=0.8,application/signed-exchange;v=b3;q=0.7\",\n",
    "        \"Accept-Encoding\": \"gzip, deflate, br, zstd\",\n",
    "        \"Accept-Language\": \"en-US,en;q=0.9\",\n",
    "        \"Upgrade-Insecure-Requests\": \"1\"}\n",
    "\n",
    "page = requests.get(URL, headers=headers)\n",
    "\n",
    "soup1 = BeautifulSoup(page.content,\"html.parser\")\n",
    "\n",
    "soup2 = BeautifulSoup(soup1.prettify(),\"html.parser\")\n",
    "\n",
    "\n",
    "title = soup2.find(id='productTitle').get_text()\n",
    "\n",
    "price = soup2.find(id=\"corePriceDisplay_desktop_feature_div\").get_text()\n",
    "\n",
    "\n",
    "\n",
    "print(title)\n",
    "print(price)\n"
   ]
  },
  {
   "cell_type": "code",
   "execution_count": 7,
   "id": "24d15d38-7087-44fc-86d7-389c35aa8d10",
   "metadata": {},
   "outputs": [
    {
     "name": "stdout",
     "output_type": "stream",
     "text": [
      "Funny Got Data MIS Data Systems Business Analyst T-Shirt\n",
      "16.99\n"
     ]
    }
   ],
   "source": [
    "price = price.strip()[1:6]\n",
    "title = title.strip()\n",
    "\n",
    "\n",
    "print(title)\n",
    "print(price)\n"
   ]
  },
  {
   "cell_type": "code",
   "execution_count": 9,
   "id": "dfa4116d-d5d0-471d-9196-2b4abf7a549a",
   "metadata": {},
   "outputs": [
    {
     "name": "stdout",
     "output_type": "stream",
     "text": [
      "2024-09-27\n"
     ]
    }
   ],
   "source": [
    "import datetime\n",
    "\n",
    "today = datetime.date.today()\n",
    "print(today)"
   ]
  },
  {
   "cell_type": "code",
   "execution_count": 31,
   "id": "1bb37a1d-e4ef-48bd-9d35-34154db26afe",
   "metadata": {},
   "outputs": [],
   "source": [
    "import csv\n",
    "\n",
    "header = ['Title','Price','Date']\n",
    "data = [title,price,today]\n",
    "\n",
    "\n",
    "# with open('AmazonWebScraperDataset.csv', 'w', newline='', encoding='UTF8') as f:\n",
    "#     writer = csv.writer(f)\n",
    "#     writer.writerow(header)\n",
    "#     writer.writerow(data)\n"
   ]
  },
  {
   "cell_type": "code",
   "execution_count": 11,
   "id": "f9e99dd0-9b25-40d5-ade5-ff82237dccbd",
   "metadata": {},
   "outputs": [
    {
     "name": "stdout",
     "output_type": "stream",
     "text": [
      "                                                Title  Price        Date\n",
      "0   Funny Got Data MIS Data Systems Business Analy...  16.99  2024-09-27\n",
      "1   Funny Got Data MIS Data Systems Business Analy...  16.99  2024-09-27\n",
      "2   Funny Got Data MIS Data Systems Business Analy...  16.99  2024-09-27\n",
      "3   Funny Got Data MIS Data Systems Business Analy...  16.99  2024-09-27\n",
      "4   Funny Got Data MIS Data Systems Business Analy...  16.99  2024-09-27\n",
      "5   Funny Got Data MIS Data Systems Business Analy...  16.99  2024-09-27\n",
      "6   Funny Got Data MIS Data Systems Business Analy...  16.99  2024-09-27\n",
      "7   Funny Got Data MIS Data Systems Business Analy...  16.99  2024-09-27\n",
      "8   Funny Got Data MIS Data Systems Business Analy...  16.99  2024-09-27\n",
      "9   Funny Got Data MIS Data Systems Business Analy...  16.99  2024-09-27\n",
      "10  Funny Got Data MIS Data Systems Business Analy...  16.99  2024-09-27\n",
      "11  Funny Got Data MIS Data Systems Business Analy...  16.99  2024-09-27\n",
      "12  Funny Got Data MIS Data Systems Business Analy...  16.99  2024-09-27\n",
      "13  Funny Got Data MIS Data Systems Business Analy...  16.99  2024-09-27\n",
      "14  Funny Got Data MIS Data Systems Business Analy...  16.99  2024-09-27\n",
      "15  Funny Got Data MIS Data Systems Business Analy...  16.99  2024-09-27\n",
      "16  Funny Got Data MIS Data Systems Business Analy...  16.99  2024-09-27\n",
      "17  Funny Got Data MIS Data Systems Business Analy...  16.99  2024-09-27\n",
      "18  Funny Got Data MIS Data Systems Business Analy...  16.99  2024-09-27\n",
      "19  Funny Got Data MIS Data Systems Business Analy...  16.99  2024-09-27\n",
      "20  Funny Got Data MIS Data Systems Business Analy...  16.99  2024-09-27\n",
      "21  Funny Got Data MIS Data Systems Business Analy...  16.99  2024-09-27\n",
      "22  Funny Got Data MIS Data Systems Business Analy...  16.99  2024-09-27\n",
      "23  Funny Got Data MIS Data Systems Business Analy...  16.99  2024-09-27\n",
      "24  Funny Got Data MIS Data Systems Business Analy...  16.99  2024-09-27\n",
      "25  Funny Got Data MIS Data Systems Business Analy...  16.99  2024-09-27\n",
      "26  Funny Got Data MIS Data Systems Business Analy...  16.99  2024-09-27\n",
      "27  Funny Got Data MIS Data Systems Business Analy...  16.99  2024-09-27\n",
      "28  Funny Got Data MIS Data Systems Business Analy...  16.99  2024-09-27\n",
      "29  Funny Got Data MIS Data Systems Business Analy...  16.99  2024-09-27\n",
      "30  Funny Got Data MIS Data Systems Business Analy...  16.99  2024-09-27\n",
      "31  Funny Got Data MIS Data Systems Business Analy...  16.99  2024-09-27\n",
      "32  Funny Got Data MIS Data Systems Business Analy...  16.99  2024-09-27\n",
      "33  Funny Got Data MIS Data Systems Business Analy...  16.99  2024-09-27\n",
      "34  Funny Got Data MIS Data Systems Business Analy...  16.99  2024-09-27\n",
      "35  Funny Got Data MIS Data Systems Business Analy...  16.99  2024-09-27\n",
      "36  Funny Got Data MIS Data Systems Business Analy...  16.99  2024-09-27\n",
      "37  Funny Got Data MIS Data Systems Business Analy...  16.99  2024-09-27\n",
      "38  Funny Got Data MIS Data Systems Business Analy...  16.99  2024-09-27\n",
      "39  Funny Got Data MIS Data Systems Business Analy...  16.99  2024-09-27\n",
      "40  Funny Got Data MIS Data Systems Business Analy...  16.99  2024-09-27\n",
      "41  Funny Got Data MIS Data Systems Business Analy...  16.99  2024-09-27\n",
      "42  Funny Got Data MIS Data Systems Business Analy...  16.99  2024-09-27\n",
      "43  Funny Got Data MIS Data Systems Business Analy...  16.99  2024-09-27\n",
      "44  Funny Got Data MIS Data Systems Business Analy...  16.99  2024-09-27\n",
      "45  Funny Got Data MIS Data Systems Business Analy...  16.99  2024-09-27\n"
     ]
    }
   ],
   "source": [
    "import pandas as pd\n",
    "\n",
    "df = pd.read_csv(r\"C:\\Users\\starl\\AmazonWebScraperDataset.csv\")\n",
    "print(df)"
   ]
  },
  {
   "cell_type": "code",
   "execution_count": 7,
   "id": "02ef8099-86f1-47e0-bd7b-c6ae5f81c9d1",
   "metadata": {},
   "outputs": [
    {
     "ename": "NameError",
     "evalue": "name 'csv' is not defined",
     "output_type": "error",
     "traceback": [
      "\u001b[1;31m---------------------------------------------------------------------------\u001b[0m",
      "\u001b[1;31mNameError\u001b[0m                                 Traceback (most recent call last)",
      "Cell \u001b[1;32mIn[7], line 4\u001b[0m\n\u001b[0;32m      1\u001b[0m \u001b[38;5;66;03m#Now we are appending data to the csv\u001b[39;00m\n\u001b[0;32m      3\u001b[0m \u001b[38;5;28;01mwith\u001b[39;00m \u001b[38;5;28mopen\u001b[39m(\u001b[38;5;124m'\u001b[39m\u001b[38;5;124mAmazonWebScraperDataset.csv\u001b[39m\u001b[38;5;124m'\u001b[39m, \u001b[38;5;124m'\u001b[39m\u001b[38;5;124ma+\u001b[39m\u001b[38;5;124m'\u001b[39m, newline\u001b[38;5;241m=\u001b[39m\u001b[38;5;124m'\u001b[39m\u001b[38;5;124m'\u001b[39m, encoding\u001b[38;5;241m=\u001b[39m\u001b[38;5;124m'\u001b[39m\u001b[38;5;124mUTF8\u001b[39m\u001b[38;5;124m'\u001b[39m) \u001b[38;5;28;01mas\u001b[39;00m f:\n\u001b[1;32m----> 4\u001b[0m     writer \u001b[38;5;241m=\u001b[39m csv\u001b[38;5;241m.\u001b[39mwriter(f)\n\u001b[0;32m      5\u001b[0m     writer\u001b[38;5;241m.\u001b[39mwriterow(data)\n",
      "\u001b[1;31mNameError\u001b[0m: name 'csv' is not defined"
     ]
    }
   ],
   "source": [
    "#Now we are appending data to the csv\n",
    "\n",
    "with open('AmazonWebScraperDataset.csv', 'a+', newline='', encoding='UTF8') as f:\n",
    "    writer = csv.writer(f)\n",
    "    writer.writerow(data)"
   ]
  },
  {
   "cell_type": "code",
   "execution_count": 3,
   "id": "43460d4a-423d-4e6d-88c8-15fe7e2e017e",
   "metadata": {},
   "outputs": [],
   "source": [
    "def check_price():\n",
    "    URL = 'https://www.amazon.com/Funny-Data-Systems-Business-Analyst/dp/B07FNW9FGJ/ref=sr_1_5?crid=1QTY20KVXAD78&dib=eyJ2IjoiMSJ9.THdJbtqqZUR64lKylmQgQAyv-uv4E9jzm4FWQDXT91m_e4l8xNdDBLYCSCMsh5BggoQTdZ9EezTr8FJQJM-H6zYd_SzfCCpIw9GBKo1LMWiaAO-xb21wcMOLduRrdJN-zky3hlWpCaqENlrICnZXNA8bBCbk44P-J8dXa5DE5E1PfEc89-ULbABW4AJbRXO9775PpNF_WtmOJe3XWq1yyCBx4ayTuVKOpi_lUIJUHNC24NyLf1HL60EeabPu3-Z1dPw-IiTmtpGIUw1TkdQV8v7DK6DYM9LUhLrE3a4nMQM.U2RSit7LOC6s4l00BnfOVh5YkHz1-TF80vbrdP_Gl0I&dib_tag=se&keywords=Data+analyst+shirt&qid=1727427658&sprefix=data+analyst+shirt%2Caps%2C326&sr=8-5'\n",
    "\n",
    "    headers = {\"User-Agent\": \"Mozilla/5.0 (Windows NT 10.0; Win64; x64) AppleWebKit/537.36 (KHTML, like Gecko) Chrome/129.0.0.0 Safari/537.36 Edg/129.0.0.0\",\n",
    "        \"Accept\": \"text/html,application/xhtml+xml,application/xml;q=0.9,image/avif,image/webp,image/apng,*/*;q=0.8,application/signed-exchange;v=b3;q=0.7\",\n",
    "        \"Accept-Encoding\": \"gzip, deflate, br, zstd\",\n",
    "        \"Accept-Language\": \"en-US,en;q=0.9\",\n",
    "        \"Upgrade-Insecure-Requests\": \"1\"}\n",
    "\n",
    "    page = requests.get(URL, headers=headers)\n",
    "\n",
    "    soup1 = BeautifulSoup(page.content,\"html.parser\")\n",
    "\n",
    "    soup2 = BeautifulSoup(soup1.prettify(),\"html.parser\")\n",
    "\n",
    "    title = soup2.find(id='productTitle').get_text()\n",
    "\n",
    "    price = soup2.find(id=\"corePriceDisplay_desktop_feature_div\").get_text()\n",
    "\n",
    "    price = price.strip()[1:6]\n",
    "    title = title.strip()\n",
    "    \n",
    "    import datetime\n",
    "    today = datetime.date.today()\n",
    "    \n",
    "    import csv\n",
    "\n",
    "    header = ['Title','Price','Date']\n",
    "    data = [title,price,today]\n",
    "\n",
    "    with open('AmazonWebScraperDataset.csv', 'a+', newline='', encoding='UTF8') as f:\n",
    "        writer = csv.writer(f)\n",
    "        writer.writerow(data)\n",
    "\n",
    "    if price<14:\n",
    "        send_mail()"
   ]
  },
  {
   "cell_type": "code",
   "execution_count": 9,
   "id": "bab29f1a-dc6b-4494-8d03-753b6f225244",
   "metadata": {},
   "outputs": [
    {
     "ename": "SMTPAuthenticationError",
     "evalue": "(535, b'5.7.8 Username and Password not accepted. For more information, go to\\n5.7.8  https://support.google.com/mail/?p=BadCredentials 41be03b00d2f7-7e6db2930a4sm1680289a12.13 - gsmtp')",
     "output_type": "error",
     "traceback": [
      "\u001b[1;31m---------------------------------------------------------------------------\u001b[0m",
      "\u001b[1;31mSMTPAuthenticationError\u001b[0m                   Traceback (most recent call last)",
      "Cell \u001b[1;32mIn[9], line 2\u001b[0m\n\u001b[0;32m      1\u001b[0m \u001b[38;5;28;01mwhile\u001b[39;00m(\u001b[38;5;28;01mTrue\u001b[39;00m):\n\u001b[1;32m----> 2\u001b[0m     check_price()\n\u001b[0;32m      3\u001b[0m     time\u001b[38;5;241m.\u001b[39msleep(\u001b[38;5;241m5\u001b[39m)\n",
      "Cell \u001b[1;32mIn[3], line 36\u001b[0m, in \u001b[0;36mcheck_price\u001b[1;34m()\u001b[0m\n\u001b[0;32m     33\u001b[0m     writer\u001b[38;5;241m.\u001b[39mwriterow(data)\n\u001b[0;32m     35\u001b[0m \u001b[38;5;28;01mif\u001b[39;00m price\u001b[38;5;241m<\u001b[39m\u001b[38;5;124m\"\u001b[39m\u001b[38;5;124m17\u001b[39m\u001b[38;5;124m\"\u001b[39m:\n\u001b[1;32m---> 36\u001b[0m     send_mail()\n",
      "Cell \u001b[1;32mIn[7], line 7\u001b[0m, in \u001b[0;36msend_mail\u001b[1;34m()\u001b[0m\n\u001b[0;32m      4\u001b[0m server\u001b[38;5;241m.\u001b[39mehlo()\n\u001b[0;32m      6\u001b[0m \u001b[38;5;66;03m# ล็อกอินด้วยอีเมลและ App Password (ถ้ามีการเปิด 2FA)\u001b[39;00m\n\u001b[1;32m----> 7\u001b[0m server\u001b[38;5;241m.\u001b[39mlogin(\u001b[38;5;124m'\u001b[39m\u001b[38;5;124mstarlinkorn69@gmail.com\u001b[39m\u001b[38;5;124m'\u001b[39m, \u001b[38;5;124m'\u001b[39m\u001b[38;5;124mStalin009\u001b[39m\u001b[38;5;124m'\u001b[39m)  \u001b[38;5;66;03m# ใช้ App Password แทนรหัสผ่านปกติ\u001b[39;00m\n\u001b[0;32m      9\u001b[0m subject \u001b[38;5;241m=\u001b[39m \u001b[38;5;124m\"\u001b[39m\u001b[38;5;124mThe Shirt you want is below 15$! Now is your chance to buy\u001b[39m\u001b[38;5;124m\"\u001b[39m\n\u001b[0;32m     10\u001b[0m body \u001b[38;5;241m=\u001b[39m \u001b[38;5;124m\"\u001b[39m\u001b[38;5;124mStalin, This is the moment we have been waiting for. Now is your chance to pick up the shirt of your dream.\u001b[39m\u001b[38;5;124m\"\u001b[39m\n",
      "File \u001b[1;32m~\\anaconda3\\Lib\\smtplib.py:750\u001b[0m, in \u001b[0;36mSMTP.login\u001b[1;34m(self, user, password, initial_response_ok)\u001b[0m\n\u001b[0;32m    747\u001b[0m         last_exception \u001b[38;5;241m=\u001b[39m e\n\u001b[0;32m    749\u001b[0m \u001b[38;5;66;03m# We could not login successfully.  Return result of last attempt.\u001b[39;00m\n\u001b[1;32m--> 750\u001b[0m \u001b[38;5;28;01mraise\u001b[39;00m last_exception\n",
      "File \u001b[1;32m~\\anaconda3\\Lib\\smtplib.py:739\u001b[0m, in \u001b[0;36mSMTP.login\u001b[1;34m(self, user, password, initial_response_ok)\u001b[0m\n\u001b[0;32m    737\u001b[0m method_name \u001b[38;5;241m=\u001b[39m \u001b[38;5;124m'\u001b[39m\u001b[38;5;124mauth_\u001b[39m\u001b[38;5;124m'\u001b[39m \u001b[38;5;241m+\u001b[39m authmethod\u001b[38;5;241m.\u001b[39mlower()\u001b[38;5;241m.\u001b[39mreplace(\u001b[38;5;124m'\u001b[39m\u001b[38;5;124m-\u001b[39m\u001b[38;5;124m'\u001b[39m, \u001b[38;5;124m'\u001b[39m\u001b[38;5;124m_\u001b[39m\u001b[38;5;124m'\u001b[39m)\n\u001b[0;32m    738\u001b[0m \u001b[38;5;28;01mtry\u001b[39;00m:\n\u001b[1;32m--> 739\u001b[0m     (code, resp) \u001b[38;5;241m=\u001b[39m \u001b[38;5;28mself\u001b[39m\u001b[38;5;241m.\u001b[39mauth(\n\u001b[0;32m    740\u001b[0m         authmethod, \u001b[38;5;28mgetattr\u001b[39m(\u001b[38;5;28mself\u001b[39m, method_name),\n\u001b[0;32m    741\u001b[0m         initial_response_ok\u001b[38;5;241m=\u001b[39minitial_response_ok)\n\u001b[0;32m    742\u001b[0m     \u001b[38;5;66;03m# 235 == 'Authentication successful'\u001b[39;00m\n\u001b[0;32m    743\u001b[0m     \u001b[38;5;66;03m# 503 == 'Error: already authenticated'\u001b[39;00m\n\u001b[0;32m    744\u001b[0m     \u001b[38;5;28;01mif\u001b[39;00m code \u001b[38;5;129;01min\u001b[39;00m (\u001b[38;5;241m235\u001b[39m, \u001b[38;5;241m503\u001b[39m):\n",
      "File \u001b[1;32m~\\anaconda3\\Lib\\smtplib.py:662\u001b[0m, in \u001b[0;36mSMTP.auth\u001b[1;34m(self, mechanism, authobject, initial_response_ok)\u001b[0m\n\u001b[0;32m    660\u001b[0m \u001b[38;5;28;01mif\u001b[39;00m code \u001b[38;5;129;01min\u001b[39;00m (\u001b[38;5;241m235\u001b[39m, \u001b[38;5;241m503\u001b[39m):\n\u001b[0;32m    661\u001b[0m     \u001b[38;5;28;01mreturn\u001b[39;00m (code, resp)\n\u001b[1;32m--> 662\u001b[0m \u001b[38;5;28;01mraise\u001b[39;00m SMTPAuthenticationError(code, resp)\n",
      "\u001b[1;31mSMTPAuthenticationError\u001b[0m: (535, b'5.7.8 Username and Password not accepted. For more information, go to\\n5.7.8  https://support.google.com/mail/?p=BadCredentials 41be03b00d2f7-7e6db2930a4sm1680289a12.13 - gsmtp')"
     ]
    }
   ],
   "source": [
    "while(True):\n",
    "    check_price()\n",
    "    time.sleep(5)"
   ]
  },
  {
   "cell_type": "code",
   "execution_count": 7,
   "id": "3b17e8a7-bae2-48cb-a900-dfefa47db69b",
   "metadata": {},
   "outputs": [],
   "source": [
    "def send_mail():\n",
    "\n",
    "    server = smtplib.SMTP_SSL('smtp.gmail.com', 465)\n",
    "    server.ehlo()\n",
    "    \n",
    "  \n",
    "    server.login('starlinkorn69@gmail.com', 'Stalin009') \n",
    "    \n",
    "    subject = \"The Shirt you want is below 15$! Now is your chance to buy\"\n",
    "    body = \"Stalin, This is the moment we have been waiting for. Now is your chance to pick up the shirt of your dream.\"\n",
    "    \n",
    "    msg = f\"Subject: {subject}\\n\\n{body}\"\n",
    "    \n",
    "  \n",
    "    sender_email = 'starlinkorn69@gmail.com'\n",
    "    receiver_email = 'starlin.asus@gmail.com'  \n",
    "    \n",
    "    server.sendmail(sender_email, receiver_email, msg)\n",
    "    \n",
    "    server.quit()\n",
    "    "
   ]
  },
  {
   "cell_type": "code",
   "execution_count": 55,
   "id": "c359f6e6-677f-4e00-aa00-a3258e4c2453",
   "metadata": {},
   "outputs": [],
   "source": [
    "# import pandas as pd\n",
    "\n",
    "# df = pd.read_csv(r\"C:\\Users\\starl\\AmazonWebScraperDataset.csv\")\n",
    "\n",
    "# print(df)"
   ]
  },
  {
   "cell_type": "code",
   "execution_count": null,
   "id": "a48179e9-1b3b-4336-a6b2-4c52de9469be",
   "metadata": {},
   "outputs": [],
   "source": []
  },
  {
   "cell_type": "code",
   "execution_count": null,
   "id": "f694ddc8-397e-41dd-b3e2-f7b5e8de4ac3",
   "metadata": {},
   "outputs": [],
   "source": []
  },
  {
   "cell_type": "code",
   "execution_count": null,
   "id": "74cefdd5-9d69-421a-8f06-77b20798fae6",
   "metadata": {},
   "outputs": [],
   "source": []
  },
  {
   "cell_type": "code",
   "execution_count": null,
   "id": "632f7b20-134d-4818-b219-ac3206fff369",
   "metadata": {},
   "outputs": [],
   "source": []
  },
  {
   "cell_type": "code",
   "execution_count": null,
   "id": "1ee171e9-0733-406b-bad0-7cf5480590d8",
   "metadata": {},
   "outputs": [],
   "source": []
  },
  {
   "cell_type": "code",
   "execution_count": null,
   "id": "e35fcd31-3677-460c-8add-2dd9bd399de1",
   "metadata": {},
   "outputs": [],
   "source": []
  },
  {
   "cell_type": "code",
   "execution_count": null,
   "id": "f60ff1ea-2425-4d7a-bdd4-f8c918047cdc",
   "metadata": {},
   "outputs": [],
   "source": []
  },
  {
   "cell_type": "code",
   "execution_count": null,
   "id": "8cc0a3b7-4ab7-4245-af08-e44bd34377ea",
   "metadata": {},
   "outputs": [],
   "source": []
  },
  {
   "cell_type": "code",
   "execution_count": null,
   "id": "c126f978-32f9-4d63-b897-6d111b9bd63e",
   "metadata": {},
   "outputs": [],
   "source": []
  },
  {
   "cell_type": "code",
   "execution_count": null,
   "id": "009f7a13-e86c-4581-ae10-937621b08eb3",
   "metadata": {},
   "outputs": [],
   "source": []
  },
  {
   "cell_type": "code",
   "execution_count": null,
   "id": "a96cb4ee-57f2-41e0-bc40-71b01eccdaa2",
   "metadata": {},
   "outputs": [],
   "source": []
  },
  {
   "cell_type": "code",
   "execution_count": null,
   "id": "a8561ba5-9693-4568-986f-64c8b98f81a7",
   "metadata": {},
   "outputs": [],
   "source": []
  }
 ],
 "metadata": {
  "kernelspec": {
   "display_name": "Python 3 (ipykernel)",
   "language": "python",
   "name": "python3"
  },
  "language_info": {
   "codemirror_mode": {
    "name": "ipython",
    "version": 3
   },
   "file_extension": ".py",
   "mimetype": "text/x-python",
   "name": "python",
   "nbconvert_exporter": "python",
   "pygments_lexer": "ipython3",
   "version": "3.12.4"
  }
 },
 "nbformat": 4,
 "nbformat_minor": 5
}

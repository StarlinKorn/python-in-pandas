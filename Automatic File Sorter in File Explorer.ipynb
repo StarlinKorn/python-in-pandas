{
 "cells": [
  {
   "cell_type": "markdown",
   "id": "4a1c510e-6a95-4caa-b500-5796e13fbdfc",
   "metadata": {},
   "source": [
    "# Automatic File Sorter in File Explorer to folders on desktop "
   ]
  },
  {
   "cell_type": "code",
   "execution_count": 117,
   "id": "1206da81-1850-496f-a32a-bd5774e237d4",
   "metadata": {},
   "outputs": [],
   "source": [
    "import os, shutil"
   ]
  },
  {
   "cell_type": "code",
   "execution_count": 119,
   "id": "5b0450a3-d1b9-4429-a168-1f5e83af4f01",
   "metadata": {},
   "outputs": [],
   "source": [
    "path = r\"C:/Desktop/python/\""
   ]
  },
  {
   "cell_type": "code",
   "execution_count": 121,
   "id": "181be626-fd28-48af-bf0f-47d73e0250de",
   "metadata": {},
   "outputs": [
    {
     "name": "stdout",
     "output_type": "stream",
     "text": [
      "['121211.txt', '2022-11-10 (3).png', '2022-11-10.png', 'New Rich Text Document.rtf', 'python.lxn', 'vgsales_1.csv']\n"
     ]
    }
   ],
   "source": [
    "file_name = os.listdir(path)\n",
    "print(file_name)"
   ]
  },
  {
   "cell_type": "code",
   "execution_count": 123,
   "id": "86a6676f-a0f9-408c-a862-66b0f3a2c365",
   "metadata": {},
   "outputs": [],
   "source": [
    "folder_names = ['csv files','image files','text files','lxn files']\n",
    "\n",
    "for loop in range(0,4):\n",
    "    if not os.path.exists(path + folder_names[loop]):\n",
    "        #print(path + folder_names[loop])\n",
    "        os.makedirs(path + folder_names[loop])\n",
    "\n",
    "for file in file_name:\n",
    "    if \".csv\" in file and not os.path.exists(path + \"csv files/\" + file):\n",
    "        shutil.move(path + file , path + \"csv files/\" + file)\n",
    "    elif \".png\" in file and not os.path.exists(path + \"image files/\" + file):\n",
    "        shutil.move(path + file , path + \"image files/\" + file)\n",
    "    elif \".txt\" in file and not os.path.exists(path + \"text files/\" + file):\n",
    "        shutil.move(path + file , path + \"text files/\" + file)\n",
    "    elif \".lxn\" in file and not os.path.exists(path + \"lxn files/\" + file):\n",
    "        shutil.move(path + file , path + \"lxn files/\" + file)"
   ]
  },
  {
   "cell_type": "code",
   "execution_count": 89,
   "id": "6ea66e0a-45be-44a1-9856-7c09268a27da",
   "metadata": {},
   "outputs": [],
   "source": []
  },
  {
   "cell_type": "code",
   "execution_count": null,
   "id": "b0495d0f-a5fe-4f99-861d-d71f353d44f8",
   "metadata": {},
   "outputs": [],
   "source": []
  },
  {
   "cell_type": "code",
   "execution_count": null,
   "id": "ee7b1f89-a483-4ab2-a28f-6075a9347969",
   "metadata": {},
   "outputs": [],
   "source": []
  },
  {
   "cell_type": "code",
   "execution_count": null,
   "id": "63d07314-88d1-416e-8e94-1d55a62aa229",
   "metadata": {},
   "outputs": [],
   "source": []
  },
  {
   "cell_type": "code",
   "execution_count": null,
   "id": "69d8ff3d-4b11-4d41-b9cf-c8b21c7419ba",
   "metadata": {},
   "outputs": [],
   "source": []
  },
  {
   "cell_type": "code",
   "execution_count": null,
   "id": "9ddfa239-b22b-4fba-bd52-81815222534a",
   "metadata": {},
   "outputs": [],
   "source": []
  },
  {
   "cell_type": "code",
   "execution_count": null,
   "id": "19330aac-6801-40f7-8234-b4a24fefe2de",
   "metadata": {},
   "outputs": [],
   "source": []
  },
  {
   "cell_type": "code",
   "execution_count": null,
   "id": "66209751-f6c9-4849-85d0-7fac07934784",
   "metadata": {},
   "outputs": [],
   "source": []
  },
  {
   "cell_type": "code",
   "execution_count": null,
   "id": "4e16a890-0192-400c-929e-655d9fcb41ce",
   "metadata": {},
   "outputs": [],
   "source": []
  },
  {
   "cell_type": "code",
   "execution_count": null,
   "id": "afb90893-d3f4-4d9b-bd24-d12f2367d559",
   "metadata": {},
   "outputs": [],
   "source": []
  },
  {
   "cell_type": "code",
   "execution_count": null,
   "id": "a4c35ba3-fffc-4514-bccc-e90f3d757162",
   "metadata": {},
   "outputs": [],
   "source": []
  },
  {
   "cell_type": "code",
   "execution_count": null,
   "id": "de5fd816-5ea6-4b7e-b130-3cdf56ca773c",
   "metadata": {},
   "outputs": [],
   "source": []
  },
  {
   "cell_type": "code",
   "execution_count": null,
   "id": "c841a3b8-08df-43fb-989b-3d6dc7f93432",
   "metadata": {},
   "outputs": [],
   "source": []
  },
  {
   "cell_type": "code",
   "execution_count": null,
   "id": "c3fd59a7-17a3-4e18-995d-a59cad355097",
   "metadata": {},
   "outputs": [],
   "source": []
  },
  {
   "cell_type": "code",
   "execution_count": null,
   "id": "d750f02a-a194-4065-b49c-fafba5a447be",
   "metadata": {},
   "outputs": [],
   "source": []
  },
  {
   "cell_type": "code",
   "execution_count": null,
   "id": "a76a8679-c380-4a4e-994f-75bcbc958235",
   "metadata": {},
   "outputs": [],
   "source": []
  },
  {
   "cell_type": "code",
   "execution_count": null,
   "id": "4d8364f2-d14e-4e06-b3f0-81f4ca4408f7",
   "metadata": {},
   "outputs": [],
   "source": []
  },
  {
   "cell_type": "code",
   "execution_count": null,
   "id": "b257756b-6942-49a4-bf47-21d495625ed9",
   "metadata": {},
   "outputs": [],
   "source": []
  }
 ],
 "metadata": {
  "kernelspec": {
   "display_name": "Python 3 (ipykernel)",
   "language": "python",
   "name": "python3"
  },
  "language_info": {
   "codemirror_mode": {
    "name": "ipython",
    "version": 3
   },
   "file_extension": ".py",
   "mimetype": "text/x-python",
   "name": "python",
   "nbconvert_exporter": "python",
   "pygments_lexer": "ipython3",
   "version": "3.12.4"
  }
 },
 "nbformat": 4,
 "nbformat_minor": 5
}
